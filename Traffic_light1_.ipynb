{
  "nbformat": 4,
  "nbformat_minor": 0,
  "metadata": {
    "colab": {
      "provenance": [],
      "authorship_tag": "ABX9TyO8uSFuy36wYmZfDRhFAjaN",
      "include_colab_link": true
    },
    "kernelspec": {
      "name": "python3",
      "display_name": "Python 3"
    },
    "language_info": {
      "name": "python"
    }
  },
  "cells": [
    {
      "cell_type": "markdown",
      "metadata": {
        "id": "view-in-github",
        "colab_type": "text"
      },
      "source": [
        "<a href=\"https://colab.research.google.com/github/niatullah/myproject/blob/main/Traffic_light1_.ipynb\" target=\"_parent\"><img src=\"https://colab.research.google.com/assets/colab-badge.svg\" alt=\"Open In Colab\"/></a>"
      ]
    },
    {
      "cell_type": "code",
      "source": [
        "import time\n",
        "from IPython.display import clear_output, display, HTML"
      ],
      "metadata": {
        "id": "kSm5oM7s32UL"
      },
      "execution_count": 1,
      "outputs": []
    },
    {
      "cell_type": "code",
      "source": [
        "# تابع نمایش چراغ راهنمایی با رنگ مشخص\n",
        "def show_traffic_light(state, cycle_num):\n",
        "    color_map = {\n",
        "        \"red\":    (\"🔴\", \"⚫\", \"⚫\"),\n",
        "        \"yellow\": (\"⚫\", \"🟡\", \"⚫\"),\n",
        "        \"green\":  (\"⚫\", \"⚫\", \"🟢\")\n",
        "    }\n",
        "    red, yellow, green = color_map[state]\n",
        "\n",
        "    html = f\"\"\"\n",
        "    <div style=\"font-family:Arial; text-align:center;\">\n",
        "        <h2 style=\"color:#444;\">🚦 چرخه شماره {cycle_num}</h2>\n",
        "        <div style=\"font-size:120px; line-height:1.2;\">\n",
        "            {red}<br>{yellow}<br>{green}\n",
        "        </div>\n",
        "        <p style=\"font-size:18px; color:#666;\">چراغ فعال: <b style='color:#d00'>{state.upper()}</b></p>\n",
        "    </div>\n",
        "    \"\"\"\n",
        "    clear_output(wait=True)\n",
        "    display(HTML(html))"
      ],
      "metadata": {
        "id": "O0I74hA3384K"
      },
      "execution_count": 2,
      "outputs": []
    },
    {
      "cell_type": "code",
      "source": [
        "# پارامترهای قابل تنظیم\n",
        "total_cycles = 10           # ← تعداد دفعات تکرار\n",
        "time_red = 5               # ← زمان چراغ قرمز\n",
        "time_yellow = 3.5          # ← زمان چراغ زرد\n",
        "time_green = 5             # ← زمان چراغ سبز"
      ],
      "metadata": {
        "id": "uGU_ec8c4AcI"
      },
      "execution_count": 3,
      "outputs": []
    },
    {
      "cell_type": "code",
      "source": [
        "# اجرای چراغ راهنمایی\n",
        "for i in range(1, total_cycles + 1):\n",
        "    show_traffic_light(\"red\", i)\n",
        "    time.sleep(time_red)\n",
        "\n",
        "    show_traffic_light(\"yellow\", i)\n",
        "    time.sleep(time_yellow)\n",
        "\n",
        "    show_traffic_light(\"green\", i)\n",
        "    time.sleep(time_green)"
      ],
      "metadata": {
        "colab": {
          "base_uri": "https://localhost:8080/",
          "height": 531
        },
        "id": "HWtF7JZY4FZm",
        "outputId": "94a9492a-9745-40b7-db18-935b5abb3f1c"
      },
      "execution_count": null,
      "outputs": [
        {
          "output_type": "display_data",
          "data": {
            "text/plain": [
              "<IPython.core.display.HTML object>"
            ],
            "text/html": [
              "\n",
              "    <div style=\"font-family:Arial; text-align:center;\">\n",
              "        <h2 style=\"color:#444;\">🚦 چرخه شماره 4</h2>\n",
              "        <div style=\"font-size:120px; line-height:1.2;\">\n",
              "            🔴<br>⚫<br>⚫\n",
              "        </div>\n",
              "        <p style=\"font-size:18px; color:#666;\">چراغ فعال: <b style='color:#d00'>RED</b></p>\n",
              "    </div>\n",
              "    "
            ]
          },
          "metadata": {}
        }
      ]
    }
  ]
}